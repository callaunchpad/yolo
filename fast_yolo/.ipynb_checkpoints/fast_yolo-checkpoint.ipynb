{
 "cells": [
  {
   "cell_type": "code",
   "execution_count": 1,
   "metadata": {},
   "outputs": [
    {
     "name": "stderr",
     "output_type": "stream",
     "text": [
      "/Library/Frameworks/Python.framework/Versions/3.6/lib/python3.6/site-packages/h5py/__init__.py:36: FutureWarning: Conversion of the second argument of issubdtype from `float` to `np.floating` is deprecated. In future, it will be treated as `np.float64 == np.dtype(float).type`.\n",
      "  from ._conv import register_converters as _register_converters\n",
      "Using TensorFlow backend.\n"
     ]
    }
   ],
   "source": [
    "from __future__ import print_function\n",
    "\n",
    "import keras\n",
    "from keras.datasets import mnist\n",
    "from keras.models import Sequential\n",
    "from keras.layers import Dense, Dropout, Conv2D, MaxPool2D, Flatten\n",
    "from keras.optimizers import SGD,Adam\n",
    "import numpy as np\n",
    "import matplotlib.pyplot as plt\n",
    "\n"
   ]
  },
  {
   "cell_type": "code",
   "execution_count": 4,
   "metadata": {},
   "outputs": [],
   "source": [
    "# batch_size = 128\n",
    "# num_classes = 10 # 10 classes because we have 10 digits (0-9)\n",
    "# epochs = 5"
   ]
  },
  {
   "cell_type": "code",
   "execution_count": 5,
   "metadata": {},
   "outputs": [],
   "source": [
    "#perform data prep"
   ]
  },
  {
   "cell_type": "code",
   "execution_count": 16,
   "metadata": {},
   "outputs": [
    {
     "name": "stdout",
     "output_type": "stream",
     "text": [
      "_________________________________________________________________\n",
      "Layer (type)                 Output Shape              Param #   \n",
      "=================================================================\n",
      "batch_normalization_10 (Batc (None, 448, 448, 3)       12        \n",
      "_________________________________________________________________\n",
      "conv2d_9 (Conv2D)            (None, 446, 446, 16)      448       \n",
      "_________________________________________________________________\n",
      "leaky_re_lu_6 (LeakyReLU)    (None, 446, 446, 16)      0         \n",
      "_________________________________________________________________\n",
      "max_pooling2d_4 (MaxPooling2 (None, 223, 223, 16)      0         \n",
      "_________________________________________________________________\n",
      "batch_normalization_11 (Batc (None, 223, 223, 16)      64        \n",
      "_________________________________________________________________\n",
      "conv2d_10 (Conv2D)           (None, 221, 221, 32)      4640      \n",
      "_________________________________________________________________\n",
      "leaky_re_lu_7 (LeakyReLU)    (None, 221, 221, 32)      0         \n",
      "=================================================================\n",
      "Total params: 5,164\n",
      "Trainable params: 5,126\n",
      "Non-trainable params: 38\n",
      "_________________________________________________________________\n"
     ]
    }
   ],
   "source": [
    "model = Sequential()\n",
    "\n",
    "model.add(keras.layers.BatchNormalization(input_shape=(448,448,3)))\n",
    "model.add(Conv2D(16, (3,3), input_shape=(448,448,3), strides=1))\n",
    "model.add(keras.layers.LeakyReLU(alpha=0.1))\n",
    "\n",
    "model.add(MaxPool2D((2,2)))\n",
    "\n",
    "model.add(keras.layers.BatchNormalization())\n",
    "model.add(Conv2D(32, (3,3), strides=1))\n",
    "model.add(keras.layers.LeakyReLU(alpha=0.1))\n",
    "\n",
    "model.add(MaxPool2D((2,2)))\n",
    "\n",
    "model.add(keras.layers.BatchNormalization())\n",
    "model.add(Conv2D(64, (3,3), strides=1))\n",
    "model.add(keras.layers.LeakyReLU(alpha=0.1))\n",
    "\n",
    "model.add(MaxPool2D((2,2)))\n",
    "\n",
    "model.add(keras.layers.BatchNormalization())\n",
    "model.add(Conv2D(128, (3,3), strides=1))\n",
    "model.add(keras.layers.LeakyReLU(alpha=0.1))\n",
    "\n",
    "model.add(MaxPool2D((2,2)))\n",
    "\n",
    "model.add(keras.layers.BatchNormalization())\n",
    "model.add(Conv2D(256, (3,3), strides=1))\n",
    "model.add(keras.layers.LeakyReLU(alpha=0.1))\n",
    "\n",
    "model.add(MaxPool2D((2,2)))\n",
    "\n",
    "model.add(keras.layers.BatchNormalization())\n",
    "model.add(Conv2D(512, (3,3), strides=1))\n",
    "model.add(keras.layers.LeakyReLU(alpha=0.1))\n",
    "\n",
    "model.add(MaxPool2D((2,2)))\n",
    "\n",
    "model.add(keras.layers.BatchNormalization())\n",
    "model.add(Conv2D(1024, (3,3), strides=1))\n",
    "model.add(keras.layers.LeakyReLU(alpha=0.1))\n",
    "\n",
    "model.add(keras.layers.BatchNormalization())\n",
    "model.add(Conv2D(1024, (3,3), strides=1))\n",
    "model.add(keras.layers.LeakyReLU(alpha=0.1))\n",
    "\n",
    "model.add(keras.layers.BatchNormalization())\n",
    "model.add(Conv2D(425, (1,1), strides=1, activation = \"linear\"))\n",
    "\n",
    "# model.add(Conv2D(64, (3,3), activation='leaky', strides=1, pad=1, batch_normalize=1))\n",
    "# model.add(MaxPool2D((2,2)))\n",
    "# model.add(Conv2D(128, (3,3), activation='leaky', strides=1, pad=1, batch_normalize=1))\n",
    "# model.add(MaxPool2D((2,2)))\n",
    "# model.add(Conv2D(256, (3,3), activation='leaky', strides=1, pad=1, batch_normalize=1))\n",
    "# model.add(MaxPool2D((2,2)))\n",
    "# model.add(Conv2D(512, (3,3), activation='leaky', strides=1, pad=1, batch_normalize=1))\n",
    "# model.add(MaxPool2D((2,2), stride=1))\n",
    "# model.add(Conv2D(1024, (3,3), activation='leaky', strides=1, pad=1, batch_normalize=1))\n",
    "# model.add(Conv2D(1024, (3,3), activation='leaky', strides=1, pad=1, batch_normalize=1))\n",
    "# model.add(Conv2D(425, (1,1), activation='linear', strides=1, pad=1))\n",
    "\n",
    "model.summary()"
   ]
  },
  {
   "cell_type": "code",
   "execution_count": null,
   "metadata": {},
   "outputs": [],
   "source": []
  }
 ],
 "metadata": {
  "kernelspec": {
   "display_name": "Python 3",
   "language": "python",
   "name": "python3"
  },
  "language_info": {
   "codemirror_mode": {
    "name": "ipython",
    "version": 3
   },
   "file_extension": ".py",
   "mimetype": "text/x-python",
   "name": "python",
   "nbconvert_exporter": "python",
   "pygments_lexer": "ipython3",
   "version": "3.6.4"
  }
 },
 "nbformat": 4,
 "nbformat_minor": 2
}

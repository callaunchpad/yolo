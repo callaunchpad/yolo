{
 "cells": [
  {
   "cell_type": "code",
   "execution_count": 485,
   "metadata": {},
   "outputs": [],
   "source": [
    "import numpy as np\n",
    "import matplotlib.pyplot as plt\n",
    "import pandas\n",
    "import math\n",
    "from keras.models import Sequential\n",
    "from keras.layers import Dense\n",
    "from keras.layers import LSTM\n",
    "from sklearn.preprocessing import MinMaxScaler\n",
    "from sklearn.metrics import mean_squared_error\n",
    "import random\n",
    "\n",
    "def hashCoords(x, y):\n",
    "    return (y*1000 + x)/(608608)\n",
    "\n",
    "def reverseHash(code):\n",
    "    x = (code*608608)%1000\n",
    "    y = (code*608608)//1000\n",
    "    return (x, y)\n",
    "\n",
    "#hash for 608 by 608 image coordinate: (y*1000 + x)/(608608)"
   ]
  },
  {
   "cell_type": "code",
   "execution_count": 486,
   "metadata": {},
   "outputs": [],
   "source": [
    "def generateCoords(start, end, step):\n",
    "    generated = []\n",
    "    for x in range(start, end, step):\n",
    "        generated.append((x+random.randint(-40, 40), (x*0.005*x)+random.randint(-40, 40)))\n",
    "    return [hashCoords(x, y) for (x, y) in generated]\n",
    "\n",
    "def generateCoords2(start, end, step):\n",
    "    generated = []\n",
    "    for x in range(start, end, step):\n",
    "        generated.append((0.6*x+random.randint(-40, 40), (x*0.006*x)+random.randint(-40, 40)))\n",
    "    return [hashCoords(x, y) for (x, y) in generated]"
   ]
  },
  {
   "cell_type": "code",
   "execution_count": 487,
   "metadata": {},
   "outputs": [],
   "source": [
    "generated = generateCoords(100, 600, 1)\n",
    "generated2 = generateCoords2(100, 600, 1)"
   ]
  },
  {
   "cell_type": "code",
   "execution_count": 488,
   "metadata": {},
   "outputs": [
    {
     "data": {
      "text/plain": [
       "[<matplotlib.lines.Line2D at 0x1504052b0>]"
      ]
     },
     "execution_count": 488,
     "metadata": {},
     "output_type": "execute_result"
    },
    {
     "data": {
      "image/png": "[encoded data removed]",
      "text/plain": [
       "<matplotlib.figure.Figure at 0x15027da20>"
      ]
     },
     "metadata": {},
     "output_type": "display_data"
    }
   ],
   "source": [
    "plt.plot(generated)\n",
    "plt.plot(generated2)"
   ]
  },
  {
   "cell_type": "code",
   "execution_count": 489,
   "metadata": {},
   "outputs": [],
   "source": [
    "generated = np.array(generated)\n",
    "generated = generated.reshape(generated.shape[0], 1)\n",
    "\n",
    "generated2 = np.array(generated2)\n",
    "generated2 = generated2.reshape(generated2.shape[0], 1)"
   ]
  },
  {
   "cell_type": "code",
   "execution_count": 490,
   "metadata": {},
   "outputs": [],
   "source": [
    "#np.random.shuffle(generated)\n",
    "trainingSet = generated\n",
    "testSet = generated2"
   ]
  },
  {
   "cell_type": "code",
   "execution_count": 491,
   "metadata": {},
   "outputs": [],
   "source": [
    "look_back = 5\n",
    "# def create_dataset(dataset, look_back=1):\n",
    "#     dataX, dataY = [], []\n",
    "#     for i in range(look_back, len(dataset)):\n",
    "#         #a = dataset[i:(i+look_back)]\n",
    "#         dataX.append(dataset[i])\n",
    "#         dataY.append(dataset[i - look_back:i])\n",
    "#     return np.array(dataX), np.array(dataY)\n",
    "def create_dataset(dataset, look_back=1):\n",
    "    dataX, dataY = [], []\n",
    "    for i in range(len(dataset)-look_back-1):\n",
    "        a = dataset[i:(i+look_back), 0]\n",
    "        dataX.append(a)\n",
    "        dataY.append(dataset[i + look_back, 0])\n",
    "    return np.array(dataX), np.array(dataY)\n",
    "trainX, trainY = create_dataset(trainingSet, look_back)#[:len(trainingSet)-1], trainingSet[1:]"
   ]
  },
  {
   "cell_type": "code",
   "execution_count": 492,
   "metadata": {},
   "outputs": [],
   "source": [
    "# trainX = trainX.reshape(trainX.shape[0], 1)\n",
    "# trainY = trainY.reshape(trainY.shape[0], 1)\n",
    "trainX = np.reshape(trainX, (trainX.shape[0], 1, trainX.shape[1]))"
   ]
  },
  {
   "cell_type": "code",
   "execution_count": 493,
   "metadata": {},
   "outputs": [
    {
     "name": "stdout",
     "output_type": "stream",
     "text": [
      "Epoch 1/25\n",
      " - 4s - loss: 0.9080\n",
      "Epoch 2/25\n",
      " - 1s - loss: 0.0381\n",
      "Epoch 3/25\n",
      " - 1s - loss: 0.0090\n",
      "Epoch 4/25\n",
      " - 1s - loss: 0.0052\n",
      "Epoch 5/25\n",
      " - 1s - loss: 0.0041\n",
      "Epoch 6/25\n",
      " - 1s - loss: 0.0037\n",
      "Epoch 7/25\n",
      " - 1s - loss: 0.0035\n",
      "Epoch 8/25\n",
      " - 1s - loss: 0.0034\n",
      "Epoch 9/25\n",
      " - 1s - loss: 0.0032\n",
      "Epoch 10/25\n",
      " - 1s - loss: 0.0031\n",
      "Epoch 11/25\n",
      " - 1s - loss: 0.0028\n",
      "Epoch 12/25\n",
      " - 1s - loss: 0.0029\n",
      "Epoch 13/25\n",
      " - 1s - loss: 0.0028\n",
      "Epoch 14/25\n",
      " - 1s - loss: 0.0027\n",
      "Epoch 15/25\n",
      " - 1s - loss: 0.0026\n",
      "Epoch 16/25\n",
      " - 1s - loss: 0.0025\n",
      "Epoch 17/25\n",
      " - 1s - loss: 0.0025\n",
      "Epoch 18/25\n",
      " - 1s - loss: 0.0026\n",
      "Epoch 19/25\n",
      " - 1s - loss: 0.0025\n",
      "Epoch 20/25\n",
      " - 1s - loss: 0.0023\n",
      "Epoch 21/25\n",
      " - 1s - loss: 0.0024\n",
      "Epoch 22/25\n",
      " - 1s - loss: 0.0024\n",
      "Epoch 23/25\n",
      " - 1s - loss: 0.0024\n",
      "Epoch 24/25\n",
      " - 1s - loss: 0.0024\n",
      "Epoch 25/25\n",
      " - 1s - loss: 0.0025\n"
     ]
    },
    {
     "data": {
      "text/plain": [
       "<keras.callbacks.History at 0x150656c88>"
      ]
     },
     "execution_count": 493,
     "metadata": {},
     "output_type": "execute_result"
    }
   ],
   "source": [
    "model = Sequential()\n",
    "model.add(LSTM(4, input_shape=(1, look_back)))\n",
    "model.add(Dense(1))\n",
    "model.compile(loss='mean_squared_error', optimizer='adam')\n",
    "model.fit(trainX, trainY, epochs=25, batch_size=1, verbose=2)"
   ]
  },
  {
   "cell_type": "code",
   "execution_count": 494,
   "metadata": {},
   "outputs": [],
   "source": [
    "testX, testY = create_dataset(testSet, look_back)#testSet[:len(testSet)-1], testSet[1:]\n",
    "#testX = testX.reshape(testX.shape[0], 1)\n",
    "#testY = testY.reshape(testY.shape[0], 1)\n",
    "testX = np.reshape(testX, (testX.shape[0], 1, testX.shape[1]))"
   ]
  },
  {
   "cell_type": "code",
   "execution_count": 495,
   "metadata": {},
   "outputs": [
    {
     "name": "stdout",
     "output_type": "stream",
     "text": [
      "Train Score: 0.9536 RMSE\n",
      "Test Score: 0.8907 RMSE\n"
     ]
    }
   ],
   "source": [
    "# scaler = MinMaxScaler(feature_range=(0, 1))\n",
    "# print(np.array(generated).shape, np.array(gen2).shape)\n",
    "# dataset = np.hstack((np.array(generated), np.array(gen2)))\n",
    "# dataset = dataset.reshape(49, 1)\n",
    "# dataset = scaler.fit_transform(dataset)\n",
    "\n",
    "# make predictions\n",
    "trainPredict = model.predict(trainX)\n",
    "testPredict = model.predict(testX)\n",
    "\n",
    "# print(trainPredict)\n",
    "# print(trainY)\n",
    "# print(testPredict)\n",
    "# print(testY)\n",
    "\n",
    "# invert predictions\n",
    "# trainPredict = scaler.inverse_transform(trainPredict)\n",
    "# trainY = scaler.inverse_transform(trainY)\n",
    "# testPredict = scaler.inverse_transform(testPredict)\n",
    "# testY = scaler.inverse_transform(testY)\n",
    "# calculate root mean squared error\n",
    "trainScore = math.sqrt(mean_squared_error(trainY[:], trainPredict[:, 0]))\n",
    "print('Train Score: %.4f RMSE' % (1 - trainScore))\n",
    "testScore = math.sqrt(mean_squared_error(testY[:], testPredict[:, 0]))\n",
    "print('Test Score: %.4f RMSE' % (1 - testScore))"
   ]
  },
  {
   "cell_type": "code",
   "execution_count": null,
   "metadata": {},
   "outputs": [],
   "source": []
  }
 ],
 "metadata": {
  "kernelspec": {
   "display_name": "Python 3",
   "language": "python",
   "name": "python3"
  },
  "language_info": {
   "codemirror_mode": {
    "name": "ipython",
    "version": 3
   },
   "file_extension": ".py",
   "mimetype": "text/x-python",
   "name": "python",
   "nbconvert_exporter": "python",
   "pygments_lexer": "ipython3",
   "version": "3.6.4"
  }
 },
 "nbformat": 4,
 "nbformat_minor": 2
}
